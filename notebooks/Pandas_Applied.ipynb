{
 "cells": [
  {
   "cell_type": "markdown",
   "id": "21892f9f-c80d-4aaf-b71e-ba2832c3359a",
   "metadata": {},
   "source": [
    "# Notebook 2: Applying Pandas to Station Observation Data\n",
    "\n",
    "### By Tyson Stewart"
   ]
  },
  {
   "cell_type": "markdown",
   "id": "da1fa135-b04e-49a3-afa4-0274bc5764f8",
   "metadata": {},
   "source": [
    "Pandas is a very powerful Python package that can help with processing data efficently so that it can be displayed with packages such as matplotlib. To illustrate this, let's take observation data from a weather station and graph it."
   ]
  },
  {
   "cell_type": "markdown",
   "id": "6a436566-963b-45b3-8f0d-291a911382b3",
   "metadata": {},
   "source": [
    "#### Step 1: Import Data"
   ]
  },
  {
   "cell_type": "markdown",
   "id": "a87c68b3-8304-4978-bcba-ca6450f0649d",
   "metadata": {},
   "source": [
    "To begin, we need to import the data that we will process in pandas. For observation data there are two options, downloading the file and importing it into Python manually, or importing the data straight from the internet with Python doing all of the work. Since the process is essentially the same code-wise for each let's opt to process the data straight from the internet. For our example, we will be utilizing the [Iowa Environmental Mesonet's ASOS data archive](https://mesonet.agron.iastate.edu/request/download.phtml) which provides archive station observations of automated airport stations across the US. While there are many stations to pick from, we will be looking at observations from the airport in DeKalb, IL on January 1st, 2025.\n",
    "\n",
    "To start let's import all of the packages we will be using and save the data into a variable using the read_csv function."
   ]
  },
  {
   "cell_type": "code",
   "execution_count": 1,
   "id": "f7eabf0a-6002-4880-b988-272e8174ef23",
   "metadata": {},
   "outputs": [],
   "source": [
    "import matplotlib as mpl\n",
    "from matplotlib import pyplot as plt\n",
    "import numpy as np\n",
    "import pandas as pd\n",
    "\n",
    "#Link to the CSV file from IEM\n",
    "obs_link = \"https://mesonet.agron.iastate.edu/cgi-bin/request/asos.py?station=DKB&data=all&year1=2025&month1=1&day1=1&year2=2025&month2=1&day2=1&tz=Etc%2FUTC&format=onlycomma&latlon=no&elev=no&missing=empty&trace=0.0001&direct=no&report_type=3&report_type=4\"\n",
    "\n",
    "obs = pd.read_csv(obs_link)"
   ]
  },
  {
   "cell_type": "markdown",
   "id": "79d995be-b75b-4ed9-b703-ffb035f7c5c9",
   "metadata": {},
   "source": [
    "#### Step 2: Filter Data\n",
    "As we can see above, our observation data was successfully imported into Python and placed into a dataframe by Pandas. Using this, we can easily look at the observation data and what each observation entry contains. For example, we can look at all of the different dataframe fields using:"
   ]
  },
  {
   "cell_type": "code",
   "execution_count": 2,
   "id": "9c9e310a-72a1-46b0-b4d0-fe4ee9e7188d",
   "metadata": {},
   "outputs": [
    {
     "data": {
      "text/plain": [
       "Index(['station', 'valid', 'tmpf', 'dwpf', 'relh', 'drct', 'sknt', 'p01i',\n",
       "       'alti', 'mslp', 'vsby', 'gust', 'skyc1', 'skyc2', 'skyc3', 'skyc4',\n",
       "       'skyl1', 'skyl2', 'skyl3', 'skyl4', 'wxcodes', 'ice_accretion_1hr',\n",
       "       'ice_accretion_3hr', 'ice_accretion_6hr', 'peak_wind_gust',\n",
       "       'peak_wind_drct', 'peak_wind_time', 'feel', 'metar', 'snowdepth'],\n",
       "      dtype='object')"
      ]
     },
     "execution_count": 2,
     "metadata": {},
     "output_type": "execute_result"
    }
   ],
   "source": [
    "obs.columns"
   ]
  },
  {
   "cell_type": "markdown",
   "id": "cad5210c-fa46-4f74-bb64-fcb9c1ce827f",
   "metadata": {},
   "source": [
    "This gives us a list of variables that are contained in our dataframe. Some like time (\"valid\") and temperature (\"tmpf\") are very important while others like weather and METAR codes are not as important. Thankfully, we can easily filter these terms out using pandas, as seen in the code below."
   ]
  },
  {
   "cell_type": "code",
   "execution_count": 3,
   "id": "cf926930-4ec2-498d-856d-5ad9e6650229",
   "metadata": {},
   "outputs": [],
   "source": [
    "#Creating a new dataframe with filtered results of original\n",
    "obs_new = obs.filter(items=[\"station\",\"valid\",\"tmpf\",\"dwpf\",\"relh\",\"mslp\",\"vsby\",\"sknt\"])"
   ]
  },
  {
   "cell_type": "code",
   "execution_count": 4,
   "id": "115902bc-7cc5-4839-9199-eaa6a677e2a2",
   "metadata": {},
   "outputs": [
    {
     "data": {
      "text/html": [
       "<div>\n",
       "<style scoped>\n",
       "    .dataframe tbody tr th:only-of-type {\n",
       "        vertical-align: middle;\n",
       "    }\n",
       "\n",
       "    .dataframe tbody tr th {\n",
       "        vertical-align: top;\n",
       "    }\n",
       "\n",
       "    .dataframe thead th {\n",
       "        text-align: right;\n",
       "    }\n",
       "</style>\n",
       "<table border=\"1\" class=\"dataframe\">\n",
       "  <thead>\n",
       "    <tr style=\"text-align: right;\">\n",
       "      <th></th>\n",
       "      <th>station</th>\n",
       "      <th>valid</th>\n",
       "      <th>tmpf</th>\n",
       "      <th>dwpf</th>\n",
       "      <th>relh</th>\n",
       "      <th>mslp</th>\n",
       "      <th>vsby</th>\n",
       "      <th>sknt</th>\n",
       "    </tr>\n",
       "  </thead>\n",
       "  <tbody>\n",
       "    <tr>\n",
       "      <th>0</th>\n",
       "      <td>DKB</td>\n",
       "      <td>2025-01-01 00:15</td>\n",
       "      <td>33.0</td>\n",
       "      <td>30.7</td>\n",
       "      <td>91.14</td>\n",
       "      <td>NaN</td>\n",
       "      <td>10.0</td>\n",
       "      <td>10.0</td>\n",
       "    </tr>\n",
       "    <tr>\n",
       "      <th>1</th>\n",
       "      <td>DKB</td>\n",
       "      <td>2025-01-01 00:35</td>\n",
       "      <td>33.0</td>\n",
       "      <td>31.0</td>\n",
       "      <td>92.25</td>\n",
       "      <td>NaN</td>\n",
       "      <td>10.0</td>\n",
       "      <td>9.0</td>\n",
       "    </tr>\n",
       "    <tr>\n",
       "      <th>2</th>\n",
       "      <td>DKB</td>\n",
       "      <td>2025-01-01 00:55</td>\n",
       "      <td>33.0</td>\n",
       "      <td>31.0</td>\n",
       "      <td>92.25</td>\n",
       "      <td>NaN</td>\n",
       "      <td>10.0</td>\n",
       "      <td>8.0</td>\n",
       "    </tr>\n",
       "    <tr>\n",
       "      <th>3</th>\n",
       "      <td>DKB</td>\n",
       "      <td>2025-01-01 01:15</td>\n",
       "      <td>32.5</td>\n",
       "      <td>31.5</td>\n",
       "      <td>96.05</td>\n",
       "      <td>NaN</td>\n",
       "      <td>10.0</td>\n",
       "      <td>8.0</td>\n",
       "    </tr>\n",
       "    <tr>\n",
       "      <th>4</th>\n",
       "      <td>DKB</td>\n",
       "      <td>2025-01-01 01:35</td>\n",
       "      <td>33.0</td>\n",
       "      <td>31.5</td>\n",
       "      <td>94.14</td>\n",
       "      <td>NaN</td>\n",
       "      <td>10.0</td>\n",
       "      <td>8.0</td>\n",
       "    </tr>\n",
       "    <tr>\n",
       "      <th>...</th>\n",
       "      <td>...</td>\n",
       "      <td>...</td>\n",
       "      <td>...</td>\n",
       "      <td>...</td>\n",
       "      <td>...</td>\n",
       "      <td>...</td>\n",
       "      <td>...</td>\n",
       "      <td>...</td>\n",
       "    </tr>\n",
       "    <tr>\n",
       "      <th>67</th>\n",
       "      <td>DKB</td>\n",
       "      <td>2025-01-01 22:35</td>\n",
       "      <td>25.7</td>\n",
       "      <td>17.6</td>\n",
       "      <td>70.99</td>\n",
       "      <td>NaN</td>\n",
       "      <td>10.0</td>\n",
       "      <td>12.0</td>\n",
       "    </tr>\n",
       "    <tr>\n",
       "      <th>68</th>\n",
       "      <td>DKB</td>\n",
       "      <td>2025-01-01 22:55</td>\n",
       "      <td>25.0</td>\n",
       "      <td>17.6</td>\n",
       "      <td>73.09</td>\n",
       "      <td>NaN</td>\n",
       "      <td>10.0</td>\n",
       "      <td>9.0</td>\n",
       "    </tr>\n",
       "    <tr>\n",
       "      <th>69</th>\n",
       "      <td>DKB</td>\n",
       "      <td>2025-01-01 23:15</td>\n",
       "      <td>24.6</td>\n",
       "      <td>17.6</td>\n",
       "      <td>74.32</td>\n",
       "      <td>NaN</td>\n",
       "      <td>10.0</td>\n",
       "      <td>7.0</td>\n",
       "    </tr>\n",
       "    <tr>\n",
       "      <th>70</th>\n",
       "      <td>DKB</td>\n",
       "      <td>2025-01-01 23:35</td>\n",
       "      <td>24.3</td>\n",
       "      <td>17.6</td>\n",
       "      <td>75.26</td>\n",
       "      <td>NaN</td>\n",
       "      <td>10.0</td>\n",
       "      <td>8.0</td>\n",
       "    </tr>\n",
       "    <tr>\n",
       "      <th>71</th>\n",
       "      <td>DKB</td>\n",
       "      <td>2025-01-01 23:55</td>\n",
       "      <td>24.8</td>\n",
       "      <td>18.3</td>\n",
       "      <td>75.96</td>\n",
       "      <td>NaN</td>\n",
       "      <td>10.0</td>\n",
       "      <td>8.0</td>\n",
       "    </tr>\n",
       "  </tbody>\n",
       "</table>\n",
       "<p>72 rows × 8 columns</p>\n",
       "</div>"
      ],
      "text/plain": [
       "   station             valid  tmpf  dwpf   relh  mslp  vsby  sknt\n",
       "0      DKB  2025-01-01 00:15  33.0  30.7  91.14   NaN  10.0  10.0\n",
       "1      DKB  2025-01-01 00:35  33.0  31.0  92.25   NaN  10.0   9.0\n",
       "2      DKB  2025-01-01 00:55  33.0  31.0  92.25   NaN  10.0   8.0\n",
       "3      DKB  2025-01-01 01:15  32.5  31.5  96.05   NaN  10.0   8.0\n",
       "4      DKB  2025-01-01 01:35  33.0  31.5  94.14   NaN  10.0   8.0\n",
       "..     ...               ...   ...   ...    ...   ...   ...   ...\n",
       "67     DKB  2025-01-01 22:35  25.7  17.6  70.99   NaN  10.0  12.0\n",
       "68     DKB  2025-01-01 22:55  25.0  17.6  73.09   NaN  10.0   9.0\n",
       "69     DKB  2025-01-01 23:15  24.6  17.6  74.32   NaN  10.0   7.0\n",
       "70     DKB  2025-01-01 23:35  24.3  17.6  75.26   NaN  10.0   8.0\n",
       "71     DKB  2025-01-01 23:55  24.8  18.3  75.96   NaN  10.0   8.0\n",
       "\n",
       "[72 rows x 8 columns]"
      ]
     },
     "execution_count": 4,
     "metadata": {},
     "output_type": "execute_result"
    }
   ],
   "source": [
    "obs_new"
   ]
  },
  {
   "cell_type": "markdown",
   "id": "e0d6fa47-0e30-435f-ae9b-56caff2bc43f",
   "metadata": {},
   "source": [
    "#### Step 3: Processing and Plotting the Data\n",
    "With the filter applied we can now begin to process and plot the data. First, let's choose a variable to plot. For our example let's plot temperature (though as you will see shortly, pretty much any variable can be selected for this). First let's isolate the temperature data into it's own variable and then plot it using matplotlib."
   ]
  },
  {
   "cell_type": "code",
   "execution_count": 5,
   "id": "b0540f64-8f84-4106-9016-84df21f633f6",
   "metadata": {},
   "outputs": [
    {
     "data": {
      "text/plain": [
       "[<matplotlib.lines.Line2D at 0x7fe1db131b80>]"
      ]
     },
     "execution_count": 5,
     "metadata": {},
     "output_type": "execute_result"
    },
    {
     "data": {
      "image/png": "[encoded data removed]",
      "text/plain": [
       "<Figure size 640x480 with 1 Axes>"
      ]
     },
     "metadata": {},
     "output_type": "display_data"
    }
   ],
   "source": [
    "temp_F = obs_new[\"tmpf\"]\n",
    "\n",
    "plt.plot(temp_F)"
   ]
  },
  {
   "cell_type": "markdown",
   "id": "83cb0173-246e-47a5-b750-5be4d1635994",
   "metadata": {},
   "source": [
    "Look at that! We now have a rudimentary line graph of our temperature observations. However, let's say we wanted to graph another variable (say dew point temperature) on top of this. We can do that via matplotlib as well."
   ]
  },
  {
   "cell_type": "code",
   "execution_count": 6,
   "id": "f9d9aed6-d8df-4b60-b084-d445ba4c7c5e",
   "metadata": {},
   "outputs": [
    {
     "data": {
      "image/png": "[encoded data removed]",
      "text/plain": [
       "<Figure size 640x480 with 1 Axes>"
      ]
     },
     "metadata": {},
     "output_type": "display_data"
    }
   ],
   "source": [
    "dewp_F = obs_new[\"dwpf\"]\n",
    "\n",
    "plt.plot(temp_F, label = \"Temperature in F\")\n",
    "plt.plot(dewp_F, label = \"Dewpoint in F\")\n",
    "plt.legend()\n",
    "plt.show()"
   ]
  },
  {
   "cell_type": "markdown",
   "id": "c8be728c-f7c7-4021-be08-5bddf5d19b21",
   "metadata": {},
   "source": [
    "We can continue to optimize this graph via matplotlib (adding a title, axis labels, changing the x axis to time units, changing line colors, etc.) but regardless of the graph we make the point remains. With pandas it is incredibly easy to take input data and process it in a way that can be visualized. I encourage you to take this process and try it with other data sources and graph types! For more info on the different graph types supported by matplotlib [please check out this page on the matplotlib documentation website.](https://matplotlib.org/stable/plot_types/index.html)"
   ]
  }
 ],
 "metadata": {
  "kernelspec": {
   "display_name": "Python [conda env:pyEAE]",
   "language": "python",
   "name": "conda-env-pyEAE-py"
  },
  "language_info": {
   "codemirror_mode": {
    "name": "ipython",
    "version": 3
   },
   "file_extension": ".py",
   "mimetype": "text/x-python",
   "name": "python",
   "nbconvert_exporter": "python",
   "pygments_lexer": "ipython3",
   "version": "3.9.13"
  }
 },
 "nbformat": 4,
 "nbformat_minor": 5
}
